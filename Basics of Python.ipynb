{
 "cells": [
  {
   "cell_type": "markdown",
   "id": "019699b9-7025-45c5-a0f6-95f59dd20076",
   "metadata": {},
   "source": [
    "# Prime Numbers"
   ]
  },
  {
   "cell_type": "code",
   "execution_count": 1,
   "id": "e851c5f6-57d1-47a1-b24d-c86c46080358",
   "metadata": {},
   "outputs": [],
   "source": [
    "def Prime_Number(num):\n",
    "    # Prime numbers must be greater than 1\n",
    "    if num <= 1:\n",
    "        return False\n",
    "    \n",
    "    # Check divisibility from 2 to the square root of the number\n",
    "    for i in range(2, int(num**0.5) + 1):\n",
    "        if num % i == 0:\n",
    "            return False\n",
    "    return True"
   ]
  },
  {
   "cell_type": "code",
   "execution_count": 2,
   "id": "610047ab-0c22-4b23-8319-d432b85f80d8",
   "metadata": {},
   "outputs": [
    {
     "name": "stdin",
     "output_type": "stream",
     "text": [
      "Enter Your number:  3\n"
     ]
    },
    {
     "name": "stdout",
     "output_type": "stream",
     "text": [
      "3 is a prime number.\n"
     ]
    }
   ],
   "source": [
    "num1 = int(input(\"Enter Your number: \"))\n",
    "if Prime_Number(num1):\n",
    "    print(f\"{num1} is a prime number.\")\n",
    "else:\n",
    "    print(f\"{num1} is not a prime number.\")"
   ]
  },
  {
   "cell_type": "markdown",
   "id": "4e70ccda-46c2-4f4a-8f04-e9447725b637",
   "metadata": {},
   "source": [
    "# Product of Random Numbers"
   ]
  },
  {
   "cell_type": "code",
   "execution_count": 3,
   "id": "aebea9f2-fab5-4e9e-a14c-9a62f5904c57",
   "metadata": {},
   "outputs": [],
   "source": [
    "import random"
   ]
  },
  {
   "cell_type": "code",
   "execution_count": 4,
   "id": "785bee15-abd4-4860-896a-762475328d85",
   "metadata": {},
   "outputs": [
    {
     "name": "stdin",
     "output_type": "stream",
     "text": [
      "What is the product of 16 and 9?  6789\n"
     ]
    },
    {
     "name": "stdout",
     "output_type": "stream",
     "text": [
      "Your answer is Incorrect! The correct answer is 144.\n"
     ]
    }
   ],
   "source": [
    "def product_quiz():\n",
    "    # Generate two random numbers between 1 and 10\n",
    "    number1 = random.randint(1, 20)\n",
    "    number2 = random.randint(1, 20)\n",
    "\n",
    "    # Calculate the correct product\n",
    "    correct_answer = number1 * number2\n",
    "\n",
    "    # Ask the user to input their answer\n",
    "    user_answer = int(input(f\"What is the product of {number1} and {number2}? \"))\n",
    "\n",
    "    # Check if the user's answer is correct\n",
    "    if user_answer == correct_answer:\n",
    "        print(\"Your answer is correct! Well Done...\")\n",
    "    else:\n",
    "        print(f\"Your answer is Incorrect! The correct answer is {correct_answer}.\")\n",
    "\n",
    "# Run the product quiz\n",
    "product_quiz()\n"
   ]
  },
  {
   "cell_type": "markdown",
   "id": "0da42871-2540-4ef3-adab-feb0ff32ce1f",
   "metadata": {},
   "source": [
    "# Squares of Even/Odd Numbers"
   ]
  },
  {
   "cell_type": "markdown",
   "id": "3ad85336-3ed5-4b2e-9773-71faa36df0c8",
   "metadata": {},
   "source": [
    "# Even Numbers"
   ]
  },
  {
   "cell_type": "code",
   "execution_count": 5,
   "id": "2eb96c19-fef6-4f1c-baae-a24d0711c4d3",
   "metadata": {},
   "outputs": [
    {
     "name": "stdout",
     "output_type": "stream",
     "text": [
      "The square of 100 is 10000\n",
      "The square of 102 is 10404\n",
      "The square of 104 is 10816\n",
      "The square of 106 is 11236\n",
      "The square of 108 is 11664\n",
      "The square of 110 is 12100\n",
      "The square of 112 is 12544\n",
      "The square of 114 is 12996\n",
      "The square of 116 is 13456\n",
      "The square of 118 is 13924\n",
      "The square of 120 is 14400\n",
      "The square of 122 is 14884\n",
      "The square of 124 is 15376\n",
      "The square of 126 is 15876\n",
      "The square of 128 is 16384\n",
      "The square of 130 is 16900\n",
      "The square of 132 is 17424\n",
      "The square of 134 is 17956\n",
      "The square of 136 is 18496\n",
      "The square of 138 is 19044\n",
      "The square of 140 is 19600\n",
      "The square of 142 is 20164\n",
      "The square of 144 is 20736\n",
      "The square of 146 is 21316\n",
      "The square of 148 is 21904\n",
      "The square of 150 is 22500\n",
      "The square of 152 is 23104\n",
      "The square of 154 is 23716\n",
      "The square of 156 is 24336\n",
      "The square of 158 is 24964\n",
      "The square of 160 is 25600\n",
      "The square of 162 is 26244\n",
      "The square of 164 is 26896\n",
      "The square of 166 is 27556\n",
      "The square of 168 is 28224\n",
      "The square of 170 is 28900\n",
      "The square of 172 is 29584\n",
      "The square of 174 is 30276\n",
      "The square of 176 is 30976\n",
      "The square of 178 is 31684\n",
      "The square of 180 is 32400\n",
      "The square of 182 is 33124\n",
      "The square of 184 is 33856\n",
      "The square of 186 is 34596\n",
      "The square of 188 is 35344\n",
      "The square of 190 is 36100\n",
      "The square of 192 is 36864\n",
      "The square of 194 is 37636\n",
      "The square of 196 is 38416\n",
      "The square of 198 is 39204\n",
      "The square of 200 is 40000\n"
     ]
    }
   ],
   "source": [
    "for number in range(100, 201):\n",
    "    # Check if the number is even\n",
    "    if number % 2 == 0:\n",
    "        print(f\"The square of {number} is {number ** 2}\")"
   ]
  },
  {
   "cell_type": "markdown",
   "id": "983f3118-8b5e-4c4b-9da7-112d15edb3af",
   "metadata": {},
   "source": [
    "# Odd Numbers"
   ]
  },
  {
   "cell_type": "code",
   "execution_count": 6,
   "id": "3bad072f-0497-48a3-bc65-0df51c40fbd8",
   "metadata": {},
   "outputs": [
    {
     "name": "stdout",
     "output_type": "stream",
     "text": [
      "The square of 101 is 10201\n",
      "The square of 103 is 10609\n",
      "The square of 105 is 11025\n",
      "The square of 107 is 11449\n",
      "The square of 109 is 11881\n",
      "The square of 111 is 12321\n",
      "The square of 113 is 12769\n",
      "The square of 115 is 13225\n",
      "The square of 117 is 13689\n",
      "The square of 119 is 14161\n",
      "The square of 121 is 14641\n",
      "The square of 123 is 15129\n",
      "The square of 125 is 15625\n",
      "The square of 127 is 16129\n",
      "The square of 129 is 16641\n",
      "The square of 131 is 17161\n",
      "The square of 133 is 17689\n",
      "The square of 135 is 18225\n",
      "The square of 137 is 18769\n",
      "The square of 139 is 19321\n",
      "The square of 141 is 19881\n",
      "The square of 143 is 20449\n",
      "The square of 145 is 21025\n",
      "The square of 147 is 21609\n",
      "The square of 149 is 22201\n",
      "The square of 151 is 22801\n",
      "The square of 153 is 23409\n",
      "The square of 155 is 24025\n",
      "The square of 157 is 24649\n",
      "The square of 159 is 25281\n",
      "The square of 161 is 25921\n",
      "The square of 163 is 26569\n",
      "The square of 165 is 27225\n",
      "The square of 167 is 27889\n",
      "The square of 169 is 28561\n",
      "The square of 171 is 29241\n",
      "The square of 173 is 29929\n",
      "The square of 175 is 30625\n",
      "The square of 177 is 31329\n",
      "The square of 179 is 32041\n",
      "The square of 181 is 32761\n",
      "The square of 183 is 33489\n",
      "The square of 185 is 34225\n",
      "The square of 187 is 34969\n",
      "The square of 189 is 35721\n",
      "The square of 191 is 36481\n",
      "The square of 193 is 37249\n",
      "The square of 195 is 38025\n",
      "The square of 197 is 38809\n",
      "The square of 199 is 39601\n"
     ]
    }
   ],
   "source": [
    "for number in range(100, 201):\n",
    "    # Check if the number is odd\n",
    "    if number % 2 != 0:\n",
    "        print(f\"The square of {number} is {number ** 2}\")"
   ]
  },
  {
   "cell_type": "markdown",
   "id": "8cd06faf-9d1a-4d6b-8223-b60bdb4a62ed",
   "metadata": {},
   "source": [
    "# Word counter"
   ]
  },
  {
   "cell_type": "code",
   "execution_count": 7,
   "id": "ff4e8d8d-bdca-413c-b0c1-7a01b9c76d9d",
   "metadata": {},
   "outputs": [
    {
     "name": "stdout",
     "output_type": "stream",
     "text": [
      "'this': 2\n",
      "'is': 1\n",
      "'a': 1\n",
      "'sample': 1\n",
      "'text.': 1\n",
      "'text': 1\n",
      "'will': 1\n",
      "'be': 1\n",
      "'used': 1\n",
      "'to': 1\n",
      "'demonstrate': 1\n",
      "'the': 1\n",
      "'word': 1\n",
      "'counter.': 1\n"
     ]
    }
   ],
   "source": [
    "Input_text = \"This is a sample text. This text will be used to demonstrate the word counter.\"\n",
    "Input_text = Input_text.lower()\n",
    "# Split the text into words\n",
    "words = Input_text.split()\n",
    "\n",
    "word_count = {}\n",
    "for word in words:\n",
    "    # If the word is already in the dictionary, increment its count\n",
    "    if word in word_count:\n",
    "        word_count[word] += 1\n",
    "    # If the word is not in the dictionary, add it with a count of 1\n",
    "    else:\n",
    "        word_count[word] = 1\n",
    "\n",
    "# Print the word counts\n",
    "for word, count in word_count.items():\n",
    "    print(f\"'{word}': {count}\")"
   ]
  },
  {
   "cell_type": "markdown",
   "id": "281e38e2-fd4e-47a1-a3b6-a23941386260",
   "metadata": {},
   "source": [
    "# Palindrome"
   ]
  },
  {
   "cell_type": "code",
   "execution_count": 8,
   "id": "eb8cf51c-f705-41a7-b1aa-f184ed4c060f",
   "metadata": {},
   "outputs": [],
   "source": [
    "import string\n",
    "def is_palindrome(Input_string):\n",
    "    cleaned_string = ''.join(char.lower() for char in Input_string if char.isalnum())\n",
    "    return cleaned_string == cleaned_string[::-1]"
   ]
  },
  {
   "cell_type": "code",
   "execution_count": 9,
   "id": "3e058115-af6c-4ed2-a822-8a84c4348350",
   "metadata": {},
   "outputs": [
    {
     "name": "stdout",
     "output_type": "stream",
     "text": [
      "True\n"
     ]
    }
   ],
   "source": [
    "Input_string = \"racecar\"\n",
    "print(is_palindrome(Input_string))"
   ]
  },
  {
   "cell_type": "code",
   "execution_count": 10,
   "id": "02e30736-3713-4316-8682-cf8cf4b69067",
   "metadata": {},
   "outputs": [
    {
     "name": "stdout",
     "output_type": "stream",
     "text": [
      "True\n"
     ]
    }
   ],
   "source": [
    "# Test with phrase\n",
    "Input_string = \"A man, a plan, a canal: Panama\"\n",
    "print(is_palindrome(Input_string))"
   ]
  },
  {
   "cell_type": "code",
   "execution_count": 11,
   "id": "e321db2a-15a9-4a0b-b2cb-b2d0e812ddf9",
   "metadata": {},
   "outputs": [
    {
     "name": "stdout",
     "output_type": "stream",
     "text": [
      "False\n"
     ]
    }
   ],
   "source": [
    "# Test with Non-Palindrome\n",
    "Input_string = \"Hello, World!\"\n",
    "print(is_palindrome(Input_string))"
   ]
  },
  {
   "cell_type": "code",
   "execution_count": null,
   "id": "9f45c269-a960-4f2e-88d5-43b8f5ff8d3b",
   "metadata": {},
   "outputs": [],
   "source": []
  }
 ],
 "metadata": {
  "kernelspec": {
   "display_name": "Python 3 (ipykernel)",
   "language": "python",
   "name": "python3"
  },
  "language_info": {
   "codemirror_mode": {
    "name": "ipython",
    "version": 3
   },
   "file_extension": ".py",
   "mimetype": "text/x-python",
   "name": "python",
   "nbconvert_exporter": "python",
   "pygments_lexer": "ipython3",
   "version": "3.11.7"
  }
 },
 "nbformat": 4,
 "nbformat_minor": 5
}
